{
 "cells": [
  {
   "cell_type": "code",
   "execution_count": 47,
   "id": "6fd27005-6fae-4fcd-b6db-672cabdfaab3",
   "metadata": {},
   "outputs": [
    {
     "name": "stderr",
     "output_type": "stream",
     "text": [
      "/opt/anaconda3/envs/VikingHacks/lib/python3.12/site-packages/pandas/core/arrays/masked.py:61: UserWarning: Pandas requires version '1.3.6' or newer of 'bottleneck' (version '1.3.5' currently installed).\n",
      "  from pandas.core import (\n"
     ]
    }
   ],
   "source": [
    "import whisper\n",
    "import pandas as pd\n",
    "model = whisper.load_model(\"base\")"
   ]
  },
  {
   "cell_type": "markdown",
   "id": "363517ba-a240-433f-8f47-10dad0961569",
   "metadata": {},
   "source": [
    "### Get Audio File"
   ]
  },
  {
   "cell_type": "code",
   "execution_count": 48,
   "id": "75b8a65f-2453-48b6-858a-45e9aeeec519",
   "metadata": {},
   "outputs": [],
   "source": [
    "aud = \"112TAVideo.mp4\""
   ]
  },
  {
   "cell_type": "markdown",
   "id": "d5862e30-fdbb-402a-90fd-3886930a7b1d",
   "metadata": {},
   "source": [
    "### Transcribe"
   ]
  },
  {
   "cell_type": "code",
   "execution_count": 49,
   "id": "26168102-6ce5-45f5-b111-dc57d85d5388",
   "metadata": {},
   "outputs": [
    {
     "name": "stderr",
     "output_type": "stream",
     "text": [
      "/opt/anaconda3/envs/VikingHacks/lib/python3.12/site-packages/whisper/transcribe.py:132: UserWarning: FP16 is not supported on CPU; using FP32 instead\n",
      "  warnings.warn(\"FP16 is not supported on CPU; using FP32 instead\")\n"
     ]
    }
   ],
   "source": [
    "info = model.transcribe(aud)"
   ]
  },
  {
   "cell_type": "markdown",
   "id": "dc33e562-27ae-4d19-b670-78c281e347de",
   "metadata": {},
   "source": [
    "### Get Data"
   ]
  },
  {
   "cell_type": "code",
   "execution_count": 50,
   "id": "0ba360bc-67cc-4163-8aa7-654e0c991eca",
   "metadata": {},
   "outputs": [],
   "source": [
    "segs = info['segments']"
   ]
  },
  {
   "cell_type": "code",
   "execution_count": 55,
   "id": "33f47e3b-89af-498a-b3d4-e58eed72aa88",
   "metadata": {},
   "outputs": [
    {
     "data": {
      "text/plain": [
       "\" All right, let's talk about merge sort and wide runs and log n time. Now let's first consider n as representing all the elements within the length of the list that we're looking at. Let me try and sort. Now, merge sort consists of two steps. The first step being that we split up all the list down into singleton lists, list of lists with each element being one of those lists. Now that requires us to check all the n elements, so that runs it off n time. Now the second step, which is we do the merging, that's the actual heavy part. In that case, when we merge the list together, we're actually checking every single element when doing so because we need to make sure that we can sort them and merge them together in a way that results in the sort of list sub lists. And so that results in every time we check, we have basically our running in all of n time when we're doing one iteration of the merge. Now, but the thing is every time we do merge, we keep having the number of lists that we actually have a check because you know, we're merging them in pairs. So we actually run in that the log n number of iterations that we actually have to do. And so we're calling log merge log n number of times and merge runs over n time. So if you do the math, it runs in n log n time. Now hash hash tables hash tables, they designed such that you basically take in a value, you run hash function on it and ideally the hash function should run in all of one time. And it allows it. And then using the result, we can actually place the values in certain bins. Now, the benefit of having such a system is that these bins, they allow us to actually go and check all the check for elements without really having to check all the elements through. We can just run the hash function and find where which bin or our desired value is in and just check that. And ideally, if you have a good hash function, you would have more and even distribution among all the bins. So therefore you have checked the least in any case if you were to look for any value within the hash dictionary. Thank you.\""
      ]
     },
     "execution_count": 55,
     "metadata": {},
     "output_type": "execute_result"
    }
   ],
   "source": [
    "info[\"text\"]"
   ]
  },
  {
   "cell_type": "code",
   "execution_count": 56,
   "id": "4b489e7d-70b6-4b6d-acac-99019c207a11",
   "metadata": {},
   "outputs": [],
   "source": [
    "text = []\n",
    "start = []\n",
    "end = []\n",
    "for i in range(len(segs)):\n",
    "    text.append(segs[i]['text'].rstrip().strip())\n",
    "    start.append(segs[i]['start'])\n",
    "    end.append(segs[i]['end'])"
   ]
  },
  {
   "cell_type": "code",
   "execution_count": 57,
   "id": "ae6abd2d-e97b-4cc5-b283-2a77eb3fddeb",
   "metadata": {},
   "outputs": [],
   "source": [
    "df_info = pd.DataFrame({\"text\": text, \"start\": start, \"end\": end})"
   ]
  },
  {
   "cell_type": "code",
   "execution_count": 58,
   "id": "a2757b0a-63e8-46d9-87b7-7a5c0025fdee",
   "metadata": {},
   "outputs": [
    {
     "data": {
      "text/html": [
       "<div>\n",
       "<style scoped>\n",
       "    .dataframe tbody tr th:only-of-type {\n",
       "        vertical-align: middle;\n",
       "    }\n",
       "\n",
       "    .dataframe tbody tr th {\n",
       "        vertical-align: top;\n",
       "    }\n",
       "\n",
       "    .dataframe thead th {\n",
       "        text-align: right;\n",
       "    }\n",
       "</style>\n",
       "<table border=\"1\" class=\"dataframe\">\n",
       "  <thead>\n",
       "    <tr style=\"text-align: right;\">\n",
       "      <th></th>\n",
       "      <th>text</th>\n",
       "      <th>start</th>\n",
       "      <th>end</th>\n",
       "    </tr>\n",
       "  </thead>\n",
       "  <tbody>\n",
       "    <tr>\n",
       "      <th>0</th>\n",
       "      <td>All right, let's talk about merge sort and wid...</td>\n",
       "      <td>0.00</td>\n",
       "      <td>7.32</td>\n",
       "    </tr>\n",
       "    <tr>\n",
       "      <th>1</th>\n",
       "      <td>Now let's first consider n as representing all...</td>\n",
       "      <td>7.32</td>\n",
       "      <td>12.32</td>\n",
       "    </tr>\n",
       "    <tr>\n",
       "      <th>2</th>\n",
       "      <td>that we're looking at.</td>\n",
       "      <td>12.32</td>\n",
       "      <td>13.32</td>\n",
       "    </tr>\n",
       "    <tr>\n",
       "      <th>3</th>\n",
       "      <td>Let me try and sort.</td>\n",
       "      <td>13.32</td>\n",
       "      <td>14.32</td>\n",
       "    </tr>\n",
       "    <tr>\n",
       "      <th>4</th>\n",
       "      <td>Now, merge sort consists of two steps.</td>\n",
       "      <td>14.32</td>\n",
       "      <td>16.20</td>\n",
       "    </tr>\n",
       "    <tr>\n",
       "      <th>5</th>\n",
       "      <td>The first step being that we split up all the ...</td>\n",
       "      <td>16.20</td>\n",
       "      <td>21.40</td>\n",
       "    </tr>\n",
       "    <tr>\n",
       "      <th>6</th>\n",
       "      <td>lists with each element being one of those lists.</td>\n",
       "      <td>21.40</td>\n",
       "      <td>24.80</td>\n",
       "    </tr>\n",
       "    <tr>\n",
       "      <th>7</th>\n",
       "      <td>Now that requires us to check all the n elemen...</td>\n",
       "      <td>24.80</td>\n",
       "      <td>29.96</td>\n",
       "    </tr>\n",
       "    <tr>\n",
       "      <th>8</th>\n",
       "      <td>Now the second step, which is we do the mergin...</td>\n",
       "      <td>29.96</td>\n",
       "      <td>33.28</td>\n",
       "    </tr>\n",
       "    <tr>\n",
       "      <th>9</th>\n",
       "      <td>In that case, when we merge the list together,...</td>\n",
       "      <td>33.28</td>\n",
       "      <td>36.52</td>\n",
       "    </tr>\n",
       "    <tr>\n",
       "      <th>10</th>\n",
       "      <td>when doing so because we need to make sure tha...</td>\n",
       "      <td>36.52</td>\n",
       "      <td>39.76</td>\n",
       "    </tr>\n",
       "    <tr>\n",
       "      <th>11</th>\n",
       "      <td>in a way that results in the sort of list sub ...</td>\n",
       "      <td>39.76</td>\n",
       "      <td>43.92</td>\n",
       "    </tr>\n",
       "    <tr>\n",
       "      <th>12</th>\n",
       "      <td>And so that results in every time we check, we...</td>\n",
       "      <td>43.92</td>\n",
       "      <td>47.68</td>\n",
       "    </tr>\n",
       "    <tr>\n",
       "      <th>13</th>\n",
       "      <td>time when we're doing one iteration of the merge.</td>\n",
       "      <td>47.68</td>\n",
       "      <td>51.64</td>\n",
       "    </tr>\n",
       "    <tr>\n",
       "      <th>14</th>\n",
       "      <td>Now, but the thing is every time we do merge, ...</td>\n",
       "      <td>51.64</td>\n",
       "      <td>55.08</td>\n",
       "    </tr>\n",
       "    <tr>\n",
       "      <th>15</th>\n",
       "      <td>actually have a check because you know, we're ...</td>\n",
       "      <td>55.08</td>\n",
       "      <td>58.44</td>\n",
       "    </tr>\n",
       "    <tr>\n",
       "      <th>16</th>\n",
       "      <td>So we actually run in that the log n number of...</td>\n",
       "      <td>58.44</td>\n",
       "      <td>63.48</td>\n",
       "    </tr>\n",
       "    <tr>\n",
       "      <th>17</th>\n",
       "      <td>And so we're calling log merge log n number of...</td>\n",
       "      <td>63.48</td>\n",
       "      <td>68.08</td>\n",
       "    </tr>\n",
       "    <tr>\n",
       "      <th>18</th>\n",
       "      <td>So if you do the math, it runs in n log n time.</td>\n",
       "      <td>68.08</td>\n",
       "      <td>71.32</td>\n",
       "    </tr>\n",
       "    <tr>\n",
       "      <th>19</th>\n",
       "      <td>Now hash hash tables hash tables, they designe...</td>\n",
       "      <td>71.32</td>\n",
       "      <td>78.36</td>\n",
       "    </tr>\n",
       "    <tr>\n",
       "      <th>20</th>\n",
       "      <td>run hash function on it and ideally the hash f...</td>\n",
       "      <td>78.36</td>\n",
       "      <td>82.64</td>\n",
       "    </tr>\n",
       "    <tr>\n",
       "      <th>21</th>\n",
       "      <td>And it allows it.</td>\n",
       "      <td>82.64</td>\n",
       "      <td>83.96</td>\n",
       "    </tr>\n",
       "    <tr>\n",
       "      <th>22</th>\n",
       "      <td>And then using the result, we can actually pla...</td>\n",
       "      <td>83.96</td>\n",
       "      <td>88.04</td>\n",
       "    </tr>\n",
       "    <tr>\n",
       "      <th>23</th>\n",
       "      <td>Now, the benefit of having such a system is th...</td>\n",
       "      <td>88.04</td>\n",
       "      <td>93.76</td>\n",
       "    </tr>\n",
       "    <tr>\n",
       "      <th>24</th>\n",
       "      <td>go and check all the check for elements withou...</td>\n",
       "      <td>93.76</td>\n",
       "      <td>98.92</td>\n",
       "    </tr>\n",
       "    <tr>\n",
       "      <th>25</th>\n",
       "      <td>through.</td>\n",
       "      <td>98.92</td>\n",
       "      <td>99.92</td>\n",
       "    </tr>\n",
       "    <tr>\n",
       "      <th>26</th>\n",
       "      <td>We can just run the hash function and find whe...</td>\n",
       "      <td>99.92</td>\n",
       "      <td>104.80</td>\n",
       "    </tr>\n",
       "    <tr>\n",
       "      <th>27</th>\n",
       "      <td>just check that.</td>\n",
       "      <td>104.80</td>\n",
       "      <td>105.96</td>\n",
       "    </tr>\n",
       "    <tr>\n",
       "      <th>28</th>\n",
       "      <td>And ideally, if you have a good hash function,...</td>\n",
       "      <td>105.96</td>\n",
       "      <td>109.28</td>\n",
       "    </tr>\n",
       "    <tr>\n",
       "      <th>29</th>\n",
       "      <td>among all the bins.</td>\n",
       "      <td>109.28</td>\n",
       "      <td>110.60</td>\n",
       "    </tr>\n",
       "    <tr>\n",
       "      <th>30</th>\n",
       "      <td>So therefore you have checked the least in any...</td>\n",
       "      <td>110.60</td>\n",
       "      <td>115.12</td>\n",
       "    </tr>\n",
       "    <tr>\n",
       "      <th>31</th>\n",
       "      <td>the hash dictionary.</td>\n",
       "      <td>115.12</td>\n",
       "      <td>116.12</td>\n",
       "    </tr>\n",
       "    <tr>\n",
       "      <th>32</th>\n",
       "      <td>Thank you.</td>\n",
       "      <td>116.12</td>\n",
       "      <td>117.04</td>\n",
       "    </tr>\n",
       "  </tbody>\n",
       "</table>\n",
       "</div>"
      ],
      "text/plain": [
       "                                                 text   start     end\n",
       "0   All right, let's talk about merge sort and wid...    0.00    7.32\n",
       "1   Now let's first consider n as representing all...    7.32   12.32\n",
       "2                              that we're looking at.   12.32   13.32\n",
       "3                                Let me try and sort.   13.32   14.32\n",
       "4              Now, merge sort consists of two steps.   14.32   16.20\n",
       "5   The first step being that we split up all the ...   16.20   21.40\n",
       "6   lists with each element being one of those lists.   21.40   24.80\n",
       "7   Now that requires us to check all the n elemen...   24.80   29.96\n",
       "8   Now the second step, which is we do the mergin...   29.96   33.28\n",
       "9   In that case, when we merge the list together,...   33.28   36.52\n",
       "10  when doing so because we need to make sure tha...   36.52   39.76\n",
       "11  in a way that results in the sort of list sub ...   39.76   43.92\n",
       "12  And so that results in every time we check, we...   43.92   47.68\n",
       "13  time when we're doing one iteration of the merge.   47.68   51.64\n",
       "14  Now, but the thing is every time we do merge, ...   51.64   55.08\n",
       "15  actually have a check because you know, we're ...   55.08   58.44\n",
       "16  So we actually run in that the log n number of...   58.44   63.48\n",
       "17  And so we're calling log merge log n number of...   63.48   68.08\n",
       "18    So if you do the math, it runs in n log n time.   68.08   71.32\n",
       "19  Now hash hash tables hash tables, they designe...   71.32   78.36\n",
       "20  run hash function on it and ideally the hash f...   78.36   82.64\n",
       "21                                  And it allows it.   82.64   83.96\n",
       "22  And then using the result, we can actually pla...   83.96   88.04\n",
       "23  Now, the benefit of having such a system is th...   88.04   93.76\n",
       "24  go and check all the check for elements withou...   93.76   98.92\n",
       "25                                           through.   98.92   99.92\n",
       "26  We can just run the hash function and find whe...   99.92  104.80\n",
       "27                                   just check that.  104.80  105.96\n",
       "28  And ideally, if you have a good hash function,...  105.96  109.28\n",
       "29                                among all the bins.  109.28  110.60\n",
       "30  So therefore you have checked the least in any...  110.60  115.12\n",
       "31                               the hash dictionary.  115.12  116.12\n",
       "32                                         Thank you.  116.12  117.04"
      ]
     },
     "execution_count": 58,
     "metadata": {},
     "output_type": "execute_result"
    }
   ],
   "source": [
    "df_info"
   ]
  },
  {
   "cell_type": "code",
   "execution_count": null,
   "id": "cc8f13dc-2f92-457e-89cf-8390454f8b6c",
   "metadata": {},
   "outputs": [],
   "source": []
  }
 ],
 "metadata": {
  "kernelspec": {
   "display_name": "Python 3 (ipykernel)",
   "language": "python",
   "name": "python3"
  },
  "language_info": {
   "codemirror_mode": {
    "name": "ipython",
    "version": 3
   },
   "file_extension": ".py",
   "mimetype": "text/x-python",
   "name": "python",
   "nbconvert_exporter": "python",
   "pygments_lexer": "ipython3",
   "version": "3.12.1"
  }
 },
 "nbformat": 4,
 "nbformat_minor": 5
}
